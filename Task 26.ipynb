{
 "cells": [
  {
   "cell_type": "code",
   "execution_count": null,
   "id": "7f591e25",
   "metadata": {},
   "outputs": [],
   "source": [
    "def step (a, b):\n",
    "    if b == 1:\n",
    "        return a\n",
    "    else:\n",
    "        return a*step(a, b-1)\n",
    "\n",
    "\n",
    "a = int(input())\n",
    "b = int(input())\n",
    "\n",
    "print(step (a, b))"
   ]
  }
 ],
 "metadata": {
  "kernelspec": {
   "display_name": "Python 3 (ipykernel)",
   "language": "python",
   "name": "python3"
  },
  "language_info": {
   "codemirror_mode": {
    "name": "ipython",
    "version": 3
   },
   "file_extension": ".py",
   "mimetype": "text/x-python",
   "name": "python",
   "nbconvert_exporter": "python",
   "pygments_lexer": "ipython3",
   "version": "3.9.13"
  }
 },
 "nbformat": 4,
 "nbformat_minor": 5
}
