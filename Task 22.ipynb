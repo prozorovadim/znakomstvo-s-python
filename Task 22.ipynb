{
 "cells": [
  {
   "cell_type": "code",
   "execution_count": 27,
   "id": "ea3c1bc8",
   "metadata": {},
   "outputs": [
    {
     "name": "stdout",
     "output_type": "stream",
     "text": [
      "6\n",
      "7\n",
      "8\n",
      "9\n",
      "9\n",
      "3\n",
      "5\n",
      "6\n",
      "3\n",
      "3\n",
      "9\n",
      "8\n",
      "5\n",
      "6\n",
      "2\n"
     ]
    }
   ],
   "source": [
    "m = int(input())\n",
    "n = int(input())\n",
    "a = []\n",
    "b=[]\n",
    "for i in range (m):\n",
    "    x = int(input())\n",
    "    a.append(x)\n",
    "for i in range (n):\n",
    "    y = int(input())\n",
    "    b.append(y)"
   ]
  },
  {
   "cell_type": "code",
   "execution_count": 28,
   "id": "1e52e23e",
   "metadata": {},
   "outputs": [
    {
     "data": {
      "text/plain": [
       "[8, 9, 9, 3, 5, 6]"
      ]
     },
     "execution_count": 28,
     "metadata": {},
     "output_type": "execute_result"
    }
   ],
   "source": [
    "a"
   ]
  },
  {
   "cell_type": "code",
   "execution_count": 29,
   "id": "94f31a3a",
   "metadata": {},
   "outputs": [
    {
     "data": {
      "text/plain": [
       "[3, 3, 9, 8, 5, 6, 2]"
      ]
     },
     "execution_count": 29,
     "metadata": {},
     "output_type": "execute_result"
    }
   ],
   "source": [
    "b"
   ]
  },
  {
   "cell_type": "code",
   "execution_count": 30,
   "id": "398a4de0",
   "metadata": {},
   "outputs": [],
   "source": [
    "numbers=[]\n",
    "for i in range (m):\n",
    "    for j in range (n):\n",
    "        if a[i]==b[j]:\n",
    "            numbers.append(a[i])\n",
    "            \n",
    "        "
   ]
  },
  {
   "cell_type": "code",
   "execution_count": 31,
   "id": "a899a004",
   "metadata": {},
   "outputs": [],
   "source": [
    "list_of_unique_numbers = []\n",
    "unique_numbers = set(numbers)\n",
    "for number in unique_numbers:\n",
    "    list_of_unique_numbers.append(number)"
   ]
  },
  {
   "cell_type": "code",
   "execution_count": 33,
   "id": "0c225c0f",
   "metadata": {},
   "outputs": [
    {
     "data": {
      "text/plain": [
       "[3, 5, 6, 8, 9]"
      ]
     },
     "execution_count": 33,
     "metadata": {},
     "output_type": "execute_result"
    }
   ],
   "source": [
    "list_of_unique_numbers"
   ]
  },
  {
   "cell_type": "code",
   "execution_count": 34,
   "id": "8a80dc96",
   "metadata": {},
   "outputs": [],
   "source": [
    "list_of_unique_numbers.sort()"
   ]
  },
  {
   "cell_type": "code",
   "execution_count": 35,
   "id": "9c15bb15",
   "metadata": {},
   "outputs": [
    {
     "data": {
      "text/plain": [
       "[3, 5, 6, 8, 9]"
      ]
     },
     "execution_count": 35,
     "metadata": {},
     "output_type": "execute_result"
    }
   ],
   "source": [
    "list_of_unique_numbers"
   ]
  },
  {
   "cell_type": "code",
   "execution_count": null,
   "id": "dd6fd48e",
   "metadata": {},
   "outputs": [],
   "source": []
  }
 ],
 "metadata": {
  "kernelspec": {
   "display_name": "Python 3 (ipykernel)",
   "language": "python",
   "name": "python3"
  },
  "language_info": {
   "codemirror_mode": {
    "name": "ipython",
    "version": 3
   },
   "file_extension": ".py",
   "mimetype": "text/x-python",
   "name": "python",
   "nbconvert_exporter": "python",
   "pygments_lexer": "ipython3",
   "version": "3.9.13"
  }
 },
 "nbformat": 4,
 "nbformat_minor": 5
}
